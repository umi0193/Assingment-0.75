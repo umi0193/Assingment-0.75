{
 "cells": [
  {
   "cell_type": "code",
   "execution_count": 75,
   "id": "2fb8566b",
   "metadata": {},
   "outputs": [],
   "source": [
    "import pandas as pd\n",
    "import numpy as np"
   ]
  },
  {
   "cell_type": "code",
   "execution_count": 76,
   "id": "aa4ce16a",
   "metadata": {},
   "outputs": [],
   "source": [
    "books = ['1984','Tom Soyer','10 negrityat','Psihologiya straha','Posledniy list','Harry Potter','Symerki','Taras Bylba','Mi']\n",
    "pages = [120, 140, 280, 13, 345, 697, 987, 45, 630]\n",
    "readers = [11, 56, 34, 98, 58, 36, 26, 134, 6]\n",
    "comments = [1, 45, 34, 98, 578, 6, 9, 14, 8]\n"
   ]
  },
  {
   "cell_type": "code",
   "execution_count": 77,
   "id": "a8ccf991",
   "metadata": {},
   "outputs": [],
   "source": [
    "df = pd.DataFrame(list(zip(pages, readers, comments)), columns = ['Количество страниц', 'Количество читателей', 'Количество комментариев'], index = books)"
   ]
  },
  {
   "cell_type": "code",
   "execution_count": 78,
   "id": "095db25e",
   "metadata": {},
   "outputs": [],
   "source": [
    "vocabulary = ['1984','Tom Soyer','10 negrityat']"
   ]
  },
  {
   "cell_type": "code",
   "execution_count": 79,
   "id": "19c394d3",
   "metadata": {},
   "outputs": [],
   "source": [
    "feature_names = ['pages', 'readers', 'comments']\n",
    "df_text = df = pd.DataFrame(list(zip(pages, readers, comments)), columns = vocabulary, index = books)\n",
    "#что означает index = books?"
   ]
  },
  {
   "cell_type": "code",
   "execution_count": 80,
   "id": "33b17004",
   "metadata": {},
   "outputs": [
    {
     "data": {
      "text/html": [
       "<div>\n",
       "<style scoped>\n",
       "    .dataframe tbody tr th:only-of-type {\n",
       "        vertical-align: middle;\n",
       "    }\n",
       "\n",
       "    .dataframe tbody tr th {\n",
       "        vertical-align: top;\n",
       "    }\n",
       "\n",
       "    .dataframe thead th {\n",
       "        text-align: right;\n",
       "    }\n",
       "</style>\n",
       "<table border=\"1\" class=\"dataframe\">\n",
       "  <thead>\n",
       "    <tr style=\"text-align: right;\">\n",
       "      <th></th>\n",
       "      <th>1984</th>\n",
       "      <th>Tom Soyer</th>\n",
       "      <th>10 negrityat</th>\n",
       "    </tr>\n",
       "  </thead>\n",
       "  <tbody>\n",
       "    <tr>\n",
       "      <th>1984</th>\n",
       "      <td>120</td>\n",
       "      <td>11</td>\n",
       "      <td>1</td>\n",
       "    </tr>\n",
       "    <tr>\n",
       "      <th>Tom Soyer</th>\n",
       "      <td>140</td>\n",
       "      <td>56</td>\n",
       "      <td>45</td>\n",
       "    </tr>\n",
       "    <tr>\n",
       "      <th>10 negrityat</th>\n",
       "      <td>280</td>\n",
       "      <td>34</td>\n",
       "      <td>34</td>\n",
       "    </tr>\n",
       "    <tr>\n",
       "      <th>Psihologiya straha</th>\n",
       "      <td>13</td>\n",
       "      <td>98</td>\n",
       "      <td>98</td>\n",
       "    </tr>\n",
       "    <tr>\n",
       "      <th>Posledniy list</th>\n",
       "      <td>345</td>\n",
       "      <td>58</td>\n",
       "      <td>578</td>\n",
       "    </tr>\n",
       "    <tr>\n",
       "      <th>Harry Potter</th>\n",
       "      <td>697</td>\n",
       "      <td>36</td>\n",
       "      <td>6</td>\n",
       "    </tr>\n",
       "    <tr>\n",
       "      <th>Symerki</th>\n",
       "      <td>987</td>\n",
       "      <td>26</td>\n",
       "      <td>9</td>\n",
       "    </tr>\n",
       "    <tr>\n",
       "      <th>Taras Bylba</th>\n",
       "      <td>45</td>\n",
       "      <td>134</td>\n",
       "      <td>14</td>\n",
       "    </tr>\n",
       "    <tr>\n",
       "      <th>Mi</th>\n",
       "      <td>630</td>\n",
       "      <td>6</td>\n",
       "      <td>8</td>\n",
       "    </tr>\n",
       "  </tbody>\n",
       "</table>\n",
       "</div>"
      ],
      "text/plain": [
       "                    1984  Tom Soyer  10 negrityat\n",
       "1984                 120         11             1\n",
       "Tom Soyer            140         56            45\n",
       "10 negrityat         280         34            34\n",
       "Psihologiya straha    13         98            98\n",
       "Posledniy list       345         58           578\n",
       "Harry Potter         697         36             6\n",
       "Symerki              987         26             9\n",
       "Taras Bylba           45        134            14\n",
       "Mi                   630          6             8"
      ]
     },
     "execution_count": 80,
     "metadata": {},
     "output_type": "execute_result"
    }
   ],
   "source": [
    "df_text"
   ]
  },
  {
   "cell_type": "code",
   "execution_count": 81,
   "id": "f06aa226",
   "metadata": {},
   "outputs": [
    {
     "name": "stderr",
     "output_type": "stream",
     "text": [
      "[nltk_data] Downloading package punkt to\n",
      "[nltk_data]     C:\\Users\\Анастасия\\AppData\\Roaming\\nltk_data...\n",
      "[nltk_data]   Package punkt is already up-to-date!\n"
     ]
    },
    {
     "data": {
      "text/plain": [
       "True"
      ]
     },
     "execution_count": 81,
     "metadata": {},
     "output_type": "execute_result"
    }
   ],
   "source": [
    "import nltk\n",
    "nltk.download('punkt')"
   ]
  },
  {
   "cell_type": "code",
   "execution_count": 82,
   "id": "e9df5e5a",
   "metadata": {},
   "outputs": [],
   "source": [
    "my_example = ['Some say the world will end in fire', \n",
    "'Some say in ice',\n",
    "'From what I’ve tasted of desire',\n",
    "'I hold with those who favor fire',\n",
    "'But if it had to perish twice',\n",
    "'I think I know enough of hate',\n",
    "'To say that for destruction ice',\n",
    "'Is also great',\n",
    "'And would suffice']"
   ]
  },
  {
   "cell_type": "code",
   "execution_count": 83,
   "id": "17f9464c",
   "metadata": {},
   "outputs": [],
   "source": [
    "from sklearn.feature_extraction.text import CountVectorizer"
   ]
  },
  {
   "cell_type": "code",
   "execution_count": 87,
   "id": "a80cf793",
   "metadata": {},
   "outputs": [],
   "source": [
    "bow_vect = CountVectorizer()"
   ]
  },
  {
   "cell_type": "code",
   "execution_count": 88,
   "id": "43466f46",
   "metadata": {},
   "outputs": [
    {
     "data": {
      "text/plain": [
       "CountVectorizer()"
      ]
     },
     "execution_count": 88,
     "metadata": {},
     "output_type": "execute_result"
    }
   ],
   "source": [
    "bow_vect.fit(my_example)"
   ]
  },
  {
   "cell_type": "code",
   "execution_count": 89,
   "id": "8de0dee4",
   "metadata": {},
   "outputs": [
    {
     "data": {
      "text/plain": [
       "{'some': 24,\n",
       " 'say': 23,\n",
       " 'the': 28,\n",
       " 'world': 38,\n",
       " 'will': 36,\n",
       " 'end': 5,\n",
       " 'in': 17,\n",
       " 'fire': 8,\n",
       " 'ice': 15,\n",
       " 'from': 10,\n",
       " 'what': 34,\n",
       " 've': 33,\n",
       " 'tasted': 26,\n",
       " 'of': 21,\n",
       " 'desire': 3,\n",
       " 'hold': 14,\n",
       " 'with': 37,\n",
       " 'those': 30,\n",
       " 'who': 35,\n",
       " 'favor': 7,\n",
       " 'but': 2,\n",
       " 'if': 16,\n",
       " 'it': 19,\n",
       " 'had': 12,\n",
       " 'to': 31,\n",
       " 'perish': 22,\n",
       " 'twice': 32,\n",
       " 'think': 29,\n",
       " 'know': 20,\n",
       " 'enough': 6,\n",
       " 'hate': 13,\n",
       " 'that': 27,\n",
       " 'for': 9,\n",
       " 'destruction': 4,\n",
       " 'is': 18,\n",
       " 'also': 0,\n",
       " 'great': 11,\n",
       " 'and': 1,\n",
       " 'would': 39,\n",
       " 'suffice': 25}"
      ]
     },
     "execution_count": 89,
     "metadata": {},
     "output_type": "execute_result"
    }
   ],
   "source": [
    "bow_vect.vocabulary_"
   ]
  },
  {
   "cell_type": "code",
   "execution_count": 90,
   "id": "421d7251",
   "metadata": {},
   "outputs": [],
   "source": [
    "bow = bow_vect.transform(my_example)"
   ]
  },
  {
   "cell_type": "code",
   "execution_count": 91,
   "id": "d557abfd",
   "metadata": {},
   "outputs": [
    {
     "data": {
      "text/plain": [
       "<9x40 sparse matrix of type '<class 'numpy.int64'>'\n",
       "\twith 48 stored elements in Compressed Sparse Row format>"
      ]
     },
     "execution_count": 91,
     "metadata": {},
     "output_type": "execute_result"
    }
   ],
   "source": [
    "bow\n",
    "#почему именно 9 на 40(40 - слов, а 9??)"
   ]
  },
  {
   "cell_type": "code",
   "execution_count": 92,
   "id": "5d846bf7",
   "metadata": {},
   "outputs": [
    {
     "data": {
      "text/plain": [
       "array([[0, 0, 0, 0, 0, 1, 0, 0, 1, 0, 0, 0, 0, 0, 0, 0, 0, 1, 0, 0, 0, 0,\n",
       "        0, 1, 1, 0, 0, 0, 1, 0, 0, 0, 0, 0, 0, 0, 1, 0, 1, 0],\n",
       "       [0, 0, 0, 0, 0, 0, 0, 0, 0, 0, 0, 0, 0, 0, 0, 1, 0, 1, 0, 0, 0, 0,\n",
       "        0, 1, 1, 0, 0, 0, 0, 0, 0, 0, 0, 0, 0, 0, 0, 0, 0, 0],\n",
       "       [0, 0, 0, 1, 0, 0, 0, 0, 0, 0, 1, 0, 0, 0, 0, 0, 0, 0, 0, 0, 0, 1,\n",
       "        0, 0, 0, 0, 1, 0, 0, 0, 0, 0, 0, 1, 1, 0, 0, 0, 0, 0],\n",
       "       [0, 0, 0, 0, 0, 0, 0, 1, 1, 0, 0, 0, 0, 0, 1, 0, 0, 0, 0, 0, 0, 0,\n",
       "        0, 0, 0, 0, 0, 0, 0, 0, 1, 0, 0, 0, 0, 1, 0, 1, 0, 0],\n",
       "       [0, 0, 1, 0, 0, 0, 0, 0, 0, 0, 0, 0, 1, 0, 0, 0, 1, 0, 0, 1, 0, 0,\n",
       "        1, 0, 0, 0, 0, 0, 0, 0, 0, 1, 1, 0, 0, 0, 0, 0, 0, 0],\n",
       "       [0, 0, 0, 0, 0, 0, 1, 0, 0, 0, 0, 0, 0, 1, 0, 0, 0, 0, 0, 0, 1, 1,\n",
       "        0, 0, 0, 0, 0, 0, 0, 1, 0, 0, 0, 0, 0, 0, 0, 0, 0, 0],\n",
       "       [0, 0, 0, 0, 1, 0, 0, 0, 0, 1, 0, 0, 0, 0, 0, 1, 0, 0, 0, 0, 0, 0,\n",
       "        0, 1, 0, 0, 0, 1, 0, 0, 0, 1, 0, 0, 0, 0, 0, 0, 0, 0],\n",
       "       [1, 0, 0, 0, 0, 0, 0, 0, 0, 0, 0, 1, 0, 0, 0, 0, 0, 0, 1, 0, 0, 0,\n",
       "        0, 0, 0, 0, 0, 0, 0, 0, 0, 0, 0, 0, 0, 0, 0, 0, 0, 0],\n",
       "       [0, 1, 0, 0, 0, 0, 0, 0, 0, 0, 0, 0, 0, 0, 0, 0, 0, 0, 0, 0, 0, 0,\n",
       "        0, 0, 0, 1, 0, 0, 0, 0, 0, 0, 0, 0, 0, 0, 0, 0, 0, 1]],\n",
       "      dtype=int64)"
      ]
     },
     "execution_count": 92,
     "metadata": {},
     "output_type": "execute_result"
    }
   ],
   "source": [
    "bow.toarray()"
   ]
  },
  {
   "cell_type": "code",
   "execution_count": 93,
   "id": "b93409b5",
   "metadata": {},
   "outputs": [],
   "source": [
    "from sklearn.feature_extraction.text import TfidfVectorizer"
   ]
  },
  {
   "cell_type": "code",
   "execution_count": 94,
   "id": "4c9f56fe",
   "metadata": {},
   "outputs": [],
   "source": [
    "tfidf_vect = TfidfVectorizer()"
   ]
  },
  {
   "cell_type": "code",
   "execution_count": 99,
   "id": "9d790b39",
   "metadata": {},
   "outputs": [],
   "source": [
    "Q = tfidf_vect.fit_transform(my_example)"
   ]
  },
  {
   "cell_type": "code",
   "execution_count": 100,
   "id": "5ef21590",
   "metadata": {},
   "outputs": [
    {
     "data": {
      "text/plain": [
       "<9x40 sparse matrix of type '<class 'numpy.float64'>'\n",
       "\twith 48 stored elements in Compressed Sparse Row format>"
      ]
     },
     "execution_count": 100,
     "metadata": {},
     "output_type": "execute_result"
    }
   ],
   "source": [
    "Q"
   ]
  },
  {
   "cell_type": "code",
   "execution_count": 101,
   "id": "3289fd78",
   "metadata": {},
   "outputs": [
    {
     "data": {
      "text/plain": [
       "array([[0.        , 0.        , 0.        , 0.        , 0.        ,\n",
       "        0.38692823, 0.        , 0.        , 0.32680575, 0.        ,\n",
       "        0.        , 0.        , 0.        , 0.        , 0.        ,\n",
       "        0.        , 0.        , 0.32680575, 0.        , 0.        ,\n",
       "        0.        , 0.        , 0.        , 0.28414816, 0.32680575,\n",
       "        0.        , 0.        , 0.        , 0.38692823, 0.        ,\n",
       "        0.        , 0.        , 0.        , 0.        , 0.        ,\n",
       "        0.        , 0.38692823, 0.        , 0.38692823, 0.        ],\n",
       "       [0.        , 0.        , 0.        , 0.        , 0.        ,\n",
       "        0.        , 0.        , 0.        , 0.        , 0.        ,\n",
       "        0.        , 0.        , 0.        , 0.        , 0.        ,\n",
       "        0.51598653, 0.        , 0.51598653, 0.        , 0.        ,\n",
       "        0.        , 0.        , 0.        , 0.44863539, 0.51598653,\n",
       "        0.        , 0.        , 0.        , 0.        , 0.        ,\n",
       "        0.        , 0.        , 0.        , 0.        , 0.        ,\n",
       "        0.        , 0.        , 0.        , 0.        , 0.        ],\n",
       "       [0.        , 0.        , 0.        , 0.41836331, 0.        ,\n",
       "        0.        , 0.        , 0.        , 0.        , 0.        ,\n",
       "        0.41836331, 0.        , 0.        , 0.        , 0.        ,\n",
       "        0.        , 0.        , 0.        , 0.        , 0.        ,\n",
       "        0.        , 0.35335632, 0.        , 0.        , 0.        ,\n",
       "        0.        , 0.41836331, 0.        , 0.        , 0.        ,\n",
       "        0.        , 0.        , 0.        , 0.41836331, 0.41836331,\n",
       "        0.        , 0.        , 0.        , 0.        , 0.        ],\n",
       "       [0.        , 0.        , 0.        , 0.        , 0.        ,\n",
       "        0.        , 0.        , 0.41836331, 0.35335632, 0.        ,\n",
       "        0.        , 0.        , 0.        , 0.        , 0.41836331,\n",
       "        0.        , 0.        , 0.        , 0.        , 0.        ,\n",
       "        0.        , 0.        , 0.        , 0.        , 0.        ,\n",
       "        0.        , 0.        , 0.        , 0.        , 0.        ,\n",
       "        0.41836331, 0.        , 0.        , 0.        , 0.        ,\n",
       "        0.41836331, 0.        , 0.41836331, 0.        , 0.        ],\n",
       "       [0.        , 0.        , 0.38594864, 0.        , 0.        ,\n",
       "        0.        , 0.        , 0.        , 0.        , 0.        ,\n",
       "        0.        , 0.        , 0.38594864, 0.        , 0.        ,\n",
       "        0.        , 0.38594864, 0.        , 0.        , 0.38594864,\n",
       "        0.        , 0.        , 0.38594864, 0.        , 0.        ,\n",
       "        0.        , 0.        , 0.        , 0.        , 0.        ,\n",
       "        0.        , 0.32597836, 0.38594864, 0.        , 0.        ,\n",
       "        0.        , 0.        , 0.        , 0.        , 0.        ],\n",
       "       [0.        , 0.        , 0.        , 0.        , 0.        ,\n",
       "        0.        , 0.46061063, 0.        , 0.        , 0.        ,\n",
       "        0.        , 0.        , 0.        , 0.46061063, 0.        ,\n",
       "        0.        , 0.        , 0.        , 0.        , 0.        ,\n",
       "        0.46061063, 0.38903907, 0.        , 0.        , 0.        ,\n",
       "        0.        , 0.        , 0.        , 0.        , 0.46061063,\n",
       "        0.        , 0.        , 0.        , 0.        , 0.        ,\n",
       "        0.        , 0.        , 0.        , 0.        , 0.        ],\n",
       "       [0.        , 0.        , 0.        , 0.        , 0.44873965,\n",
       "        0.        , 0.        , 0.        , 0.        , 0.44873965,\n",
       "        0.        , 0.        , 0.        , 0.        , 0.        ,\n",
       "        0.37901266, 0.        , 0.        , 0.        , 0.        ,\n",
       "        0.        , 0.        , 0.        , 0.32954056, 0.        ,\n",
       "        0.        , 0.        , 0.44873965, 0.        , 0.        ,\n",
       "        0.        , 0.37901266, 0.        , 0.        , 0.        ,\n",
       "        0.        , 0.        , 0.        , 0.        , 0.        ],\n",
       "       [0.57735027, 0.        , 0.        , 0.        , 0.        ,\n",
       "        0.        , 0.        , 0.        , 0.        , 0.        ,\n",
       "        0.        , 0.57735027, 0.        , 0.        , 0.        ,\n",
       "        0.        , 0.        , 0.        , 0.57735027, 0.        ,\n",
       "        0.        , 0.        , 0.        , 0.        , 0.        ,\n",
       "        0.        , 0.        , 0.        , 0.        , 0.        ,\n",
       "        0.        , 0.        , 0.        , 0.        , 0.        ,\n",
       "        0.        , 0.        , 0.        , 0.        , 0.        ],\n",
       "       [0.        , 0.57735027, 0.        , 0.        , 0.        ,\n",
       "        0.        , 0.        , 0.        , 0.        , 0.        ,\n",
       "        0.        , 0.        , 0.        , 0.        , 0.        ,\n",
       "        0.        , 0.        , 0.        , 0.        , 0.        ,\n",
       "        0.        , 0.        , 0.        , 0.        , 0.        ,\n",
       "        0.57735027, 0.        , 0.        , 0.        , 0.        ,\n",
       "        0.        , 0.        , 0.        , 0.        , 0.        ,\n",
       "        0.        , 0.        , 0.        , 0.        , 0.57735027]])"
      ]
     },
     "execution_count": 101,
     "metadata": {},
     "output_type": "execute_result"
    }
   ],
   "source": [
    "Q.toarray()"
   ]
  },
  {
   "cell_type": "code",
   "execution_count": null,
   "id": "a2f5572d",
   "metadata": {},
   "outputs": [],
   "source": []
  },
  {
   "cell_type": "code",
   "execution_count": null,
   "id": "a23d4f4e",
   "metadata": {},
   "outputs": [],
   "source": []
  }
 ],
 "metadata": {
  "kernelspec": {
   "display_name": "Python 3",
   "language": "python",
   "name": "python3"
  },
  "language_info": {
   "codemirror_mode": {
    "name": "ipython",
    "version": 3
   },
   "file_extension": ".py",
   "mimetype": "text/x-python",
   "name": "python",
   "nbconvert_exporter": "python",
   "pygments_lexer": "ipython3",
   "version": "3.8.8"
  }
 },
 "nbformat": 4,
 "nbformat_minor": 5
}
